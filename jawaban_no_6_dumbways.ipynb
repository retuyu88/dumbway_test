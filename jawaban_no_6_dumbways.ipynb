{
 "cells": [
  {
   "cell_type": "code",
   "execution_count": 9,
   "metadata": {},
   "outputs": [],
   "source": [
    "start = 1\n",
    "end = 200\n",
    "prime = []\n",
    "  \n",
    "for val in range(start, end + 1): \n",
    " \n",
    "   if val > 1: \n",
    "       for n in range(2, val): \n",
    "           if (val % n) == 0: \n",
    "               break\n",
    "       else: \n",
    "           prime.append(val)"
   ]
  },
  {
   "cell_type": "code",
   "execution_count": 10,
   "metadata": {},
   "outputs": [
    {
     "name": "stdout",
     "output_type": "stream",
     "text": [
      "[2, 3, 5, 7, 11, 13, 17, 19, 23, 29, 31, 37, 41, 43, 47, 53, 59, 61, 67, 71, 73, 79, 83, 89, 97, 101, 103, 107, 109, 113, 127, 131, 137, 139, 149, 151, 157, 163, 167, 173, 179, 181, 191, 193, 197, 199]\n"
     ]
    }
   ],
   "source": [
    "print(prime)\n",
    "\n",
    "#diatas bukan code soal , tapi saya tidak bisa menggabungkan prima dan membuat segitiga karna kepepet, jadi saya\n",
    "#buat array yang isinya semua bilangan prima supaya mudah di panggil"
   ]
  },
  {
   "cell_type": "code",
   "execution_count": 55,
   "metadata": {},
   "outputs": [],
   "source": [
    "def segitiga_prima(ukuran):\n",
    "    if (ukuran < 0) or (ukuran >= 10):\n",
    "        return \"ukuran tidak valid , harus 1 < alas/tinggi < 10\"\n",
    "    x = 0\n",
    "    for row in range(0, ukuran):\n",
    "        for column in range(0, row + 1):\n",
    "            print(prime[x], end=' ')\n",
    "            x = x + 1\n",
    "        print(\"\")\n",
    "    \n",
    "    "
   ]
  },
  {
   "cell_type": "code",
   "execution_count": 56,
   "metadata": {},
   "outputs": [
    {
     "name": "stdout",
     "output_type": "stream",
     "text": [
      "masukan ukuran segitiga (alas/tinggi)= 5\n",
      "2 \n",
      "3 5 \n",
      "7 11 13 \n",
      "17 19 23 29 \n",
      "31 37 41 43 47 \n"
     ]
    }
   ],
   "source": [
    "ukuran = input(\"masukan ukuran segitiga (alas/tinggi)= \")\n",
    "segitiga_prima(int(ukuran))"
   ]
  },
  {
   "cell_type": "code",
   "execution_count": null,
   "metadata": {},
   "outputs": [],
   "source": []
  }
 ],
 "metadata": {
  "kernelspec": {
   "display_name": "Python 3",
   "language": "python",
   "name": "python3"
  }
 },
 "nbformat": 4,
 "nbformat_minor": 2
}
