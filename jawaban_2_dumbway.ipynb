{
 "cells": [
  {
   "cell_type": "code",
   "execution_count": 142,
   "metadata": {},
   "outputs": [],
   "source": [
    "import re"
   ]
  },
  {
   "cell_type": "code",
   "execution_count": 143,
   "metadata": {},
   "outputs": [],
   "source": [
    "username = \"r2Masds\"\n",
    "password = \"wdDawd2@aa#a\""
   ]
  },
  {
   "cell_type": "code",
   "execution_count": 144,
   "metadata": {},
   "outputs": [],
   "source": [
    "def val_username(x):\n",
    "    #merupakan kombinasi dari huruf kecil, huruf besar dan angka dengan panjang 5-9 karakter. \n",
    "    #Username tidak boleh diawali dengan angka / karakter special.\n",
    "    a = [bool(re.fullmatch('^[^0-9][A-Za-z0-9]{5,9}?',x))]\n",
    "    return a"
   ]
  },
  {
   "cell_type": "code",
   "execution_count": 145,
   "metadata": {},
   "outputs": [],
   "source": [
    "def val_password(y):\n",
    "    #merupakan kombinasi dari huruf kecil, huruf besar minimal satu karakter, \n",
    "    #angka minimal satu karakter, dan karakter spesial minimal satu karakter dan\n",
    "    #harus memiliki karakter simbol ‘@’  dan panjang minimal 8 karakter.\n",
    "    b = [bool(re.fullmatch('^(?=.*\\d)(?=.*[@#$%^&+=])(?=.*[@])(?=.*[A-Z]).{8,}$',y))]\n",
    "    return b"
   ]
  },
  {
   "cell_type": "code",
   "execution_count": 146,
   "metadata": {},
   "outputs": [
    {
     "name": "stdout",
     "output_type": "stream",
     "text": [
      "[True]\n",
      "[True]\n"
     ]
    }
   ],
   "source": [
    "print(val_username(username))\n",
    "print(val_password(password))"
   ]
  },
  {
   "cell_type": "code",
   "execution_count": null,
   "metadata": {},
   "outputs": [],
   "source": []
  },
  {
   "cell_type": "code",
   "execution_count": null,
   "metadata": {},
   "outputs": [],
   "source": []
  }
 ],
 "metadata": {
  "kernelspec": {
   "display_name": "Python 3",
   "language": "python",
   "name": "python3"
  },
  "language_info": {
   "codemirror_mode": {
    "name": "ipython",
    "version": 3
   },
   "file_extension": ".py",
   "mimetype": "text/x-python",
   "name": "python",
   "nbconvert_exporter": "python",
   "pygments_lexer": "ipython3",
   "version": "3.7.3"
  }
 },
 "nbformat": 4,
 "nbformat_minor": 2
}
