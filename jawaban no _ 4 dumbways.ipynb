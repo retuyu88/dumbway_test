{
 "cells": [
  {
   "cell_type": "code",
   "execution_count": null,
   "metadata": {},
   "outputs": [],
   "source": [
    "string = input(\"masukan KALIMAT yang akan di check\")\n",
    "word = input(\"masukan KATA/HURUF yang akan di check = \")\n",
    "\n",
    "def check_string(string,word):\n",
    "    if (len(string) < len(word)):\n",
    "        return \"kalimat yang akan di check tidak boleh kurang dari jumlah kata\"\n",
    "    terbalik = \"\"\n",
    "    for i in string: \n",
    "        terbalik = i + terbalik\n",
    "        \n",
    "    countr = string.count(word)\n",
    "    countl = terbalik.count(word)\n",
    "    count = countr+countl\n",
    "    return count\n",
    "\n",
    "\n",
    "print('ditemukan',check_string(string,word),'kali')"
   ]
  },
  {
   "cell_type": "code",
   "execution_count": 83,
   "metadata": {},
   "outputs": [
    {
     "name": "stdout",
     "output_type": "stream",
     "text": [
      "ditemukan 0 kali\n"
     ]
    }
   ],
   "source": []
  },
  {
   "cell_type": "code",
   "execution_count": null,
   "metadata": {},
   "outputs": [],
   "source": []
  }
 ],
 "metadata": {
  "kernelspec": {
   "display_name": "Python 3",
   "language": "python",
   "name": "python3"
  },
  "language_info": {
   "codemirror_mode": {
    "name": "ipython",
    "version": 3
   },
   "file_extension": ".py",
   "mimetype": "text/x-python",
   "name": "python",
   "nbconvert_exporter": "python",
   "pygments_lexer": "ipython3",
   "version": "3.7.3"
  }
 },
 "nbformat": 4,
 "nbformat_minor": 2
}
