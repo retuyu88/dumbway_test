{
 "cells": [
  {
   "cell_type": "code",
   "execution_count": 113,
   "metadata": {},
   "outputs": [
    {
     "name": "stdout",
     "output_type": "stream",
     "text": [
      "masukan jumlah = 5\n",
      " =   =   @   =   =  \n",
      "\n",
      " =   @   @   @   =  \n",
      "\n",
      " @   @   @   @   @  \n",
      "\n",
      " =   @   @   @   =  \n",
      "\n",
      " =   =   @   =   =  \n",
      "\n"
     ]
    }
   ],
   "source": [
    "def Diamond(jumlah):\n",
    "    rows = jumlah - 2\n",
    "    n = 0\n",
    "    for i in range(1, rows + 1): \n",
    "        for j in range (1, (rows - i) + 1): \n",
    "            print(end = \" =  \") \n",
    "        while n != (2 * i - 1): \n",
    "            print(\" @  \", end = \"\")\n",
    "            n = n + 1\n",
    "        for j in range (-1, rows - i - 1):\n",
    "            print(end = \" =  \")\n",
    "        n = 0 \n",
    "        \n",
    "        print(\"\\n\") \n",
    "  \n",
    "    k = 1\n",
    "    n = 1\n",
    "    for i in range(1, rows): \n",
    "        for j in range (1, k + 1): \n",
    "            print(end = \" =  \") \n",
    "        \n",
    "        while n <= (2 * (rows - i) - 1): \n",
    "            print(\" @  \", end = \"\") \n",
    "            n = n + 1\n",
    "        for j in range (0, k):\n",
    "            print(end = \" =  \")\n",
    "        k = k + 1\n",
    "        n = 1\n",
    "        print('\\n') \n",
    "  \n",
    "jumlah = input(\"masukan jumlah = \")\n",
    "Diamond(int(jumlah)) "
   ]
  },
  {
   "cell_type": "code",
   "execution_count": null,
   "metadata": {},
   "outputs": [],
   "source": []
  },
  {
   "cell_type": "code",
   "execution_count": null,
   "metadata": {},
   "outputs": [],
   "source": []
  }
 ],
 "metadata": {
  "kernelspec": {
   "display_name": "Python 3",
   "language": "python",
   "name": "python3"
  },
  "language_info": {
   "codemirror_mode": {
    "name": "ipython",
    "version": 3
   },
   "file_extension": ".py",
   "mimetype": "text/x-python",
   "name": "python",
   "nbconvert_exporter": "python",
   "pygments_lexer": "ipython3",
   "version": "3.7.3"
  }
 },
 "nbformat": 4,
 "nbformat_minor": 2
}
