{
 "cells": [
  {
   "cell_type": "code",
   "execution_count": 4,
   "metadata": {},
   "outputs": [],
   "source": [
    "import json"
   ]
  },
  {
   "cell_type": "code",
   "execution_count": 5,
   "metadata": {},
   "outputs": [],
   "source": [
    "class return_biodata:\n",
    "    def __init__(self,name,age,address,hobbies,is_married,list_of_schools,interest_in_coding):\n",
    "        self.name = name\n",
    "        self.age = age\n",
    "        self.address = address\n",
    "        self.hobbies = hobbies\n",
    "        self.is_married = is_married\n",
    "        self.list_of_schools = list_of_schools\n",
    "        self.interest_in_coding = interest_in_coding\n",
    "    \n",
    "    def __str__(self):\n",
    "        return self.name\n"
   ]
  },
  {
   "cell_type": "code",
   "execution_count": 6,
   "metadata": {},
   "outputs": [],
   "source": [
    "#kode ini untuk menghindari pesan error TypeError: Object of type 'User' is not JSON serializable\n",
    "def convert_to_dict(obj):\n",
    "        obj_dict = {\n",
    "        \"__class__\": obj.__class__.__name__,\n",
    "        \"__module__\": obj.__module__\n",
    "        }\n",
    "        obj_dict.update(obj.__dict__)\n",
    "  \n",
    "        return obj_dict"
   ]
  },
  {
   "cell_type": "code",
   "execution_count": 7,
   "metadata": {},
   "outputs": [],
   "source": [
    "data_saya = return_biodata(name = \"Andika Heru Pratama\",\n",
    "            age = 24,\n",
    "            address = \"jl.Manjahlega no 46 rt 02/12 Rancasari Bandung\",\n",
    "            hobbies = [\"Music\", \"Game\" , \"Coding\"],\n",
    "            is_married = False,\n",
    "            list_of_schools = {\"UNIKOM\" : [{\"name\" : \"Universitas Komputer Indonesia\",\n",
    "                                            \"year_in\" : 2013,\n",
    "                                            \"year_out\" : 2019,\n",
    "                                            \"major\" : \"Informatic Engineering\"}],\n",
    "                               \"DIGITALENT\" : [{\"name\" : \"Digital Talent Scholarship 2019\",\n",
    "                                               \"year_in\" : 2019,\n",
    "                                               \"year_out\" : 2019,\n",
    "                                               \"major\" : \"Machine Learning\"}]},\n",
    "            interest_in_coding = True)"
   ]
  },
  {
   "cell_type": "code",
   "execution_count": 8,
   "metadata": {},
   "outputs": [
    {
     "data": {
      "text/plain": [
       "'{\"__class__\": \"return_biodata\", \"__module__\": \"__main__\", \"name\": \"Andika Heru Pratama\", \"age\": 24, \"address\": \"jl.Manjahlega no 46 rt 02/12 Rancasari Bandung\", \"hobbies\": [\"Music\", \"Game\", \"Coding\"], \"is_married\": false, \"list_of_schools\": {\"UNIKOM\": [{\"name\": \"Universitas Komputer Indonesia\", \"year_in\": 2013, \"year_out\": 2019, \"major\": \"Informatic Engineering\"}], \"DIGITALENT\": [{\"name\": \"Digital Talent Scholarship 2019\", \"year_in\": 2019, \"year_out\": 2019, \"major\": \"Machine Learning\"}]}, \"interest_in_coding\": true}'"
      ]
     },
     "execution_count": 8,
     "metadata": {},
     "output_type": "execute_result"
    }
   ],
   "source": [
    "json.dumps(data_saya,default=convert_to_dict)"
   ]
  },
  {
   "cell_type": "code",
   "execution_count": null,
   "metadata": {},
   "outputs": [],
   "source": []
  }
 ],
 "metadata": {
  "kernelspec": {
   "display_name": "Python 3",
   "language": "python",
   "name": "python3"
  },
  "language_info": {
   "codemirror_mode": {
    "name": "ipython",
    "version": 3
   },
   "file_extension": ".py",
   "mimetype": "text/x-python",
   "name": "python",
   "nbconvert_exporter": "python",
   "pygments_lexer": "ipython3",
   "version": "3.7.3"
  }
 },
 "nbformat": 4,
 "nbformat_minor": 2
}
