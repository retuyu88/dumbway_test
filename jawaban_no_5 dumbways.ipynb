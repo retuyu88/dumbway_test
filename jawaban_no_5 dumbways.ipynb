{
 "cells": [
  {
   "cell_type": "code",
   "execution_count": 3,
   "metadata": {},
   "outputs": [],
   "source": [
    "\n",
    "def drawLine(ukuran):\n",
    "    ukuran = int(ukuran)\n",
    "    print(\"Ukuran Persegi = \",ukuran)\n",
    "    i = 0\n",
    "    while(i < ukuran):\n",
    "        j = 0\n",
    "        while(j < ukuran):\n",
    "            if (j == i):\n",
    "                print('* ', end = ' ')\n",
    "            else:\n",
    "                print('  ', end = ' ')\n",
    "            j = j + 1\n",
    "        i = i + 1\n",
    "        print(\"\\n\")"
   ]
  },
  {
   "cell_type": "code",
   "execution_count": 4,
   "metadata": {},
   "outputs": [
    {
     "name": "stdout",
     "output_type": "stream",
     "text": [
      "masukan jumlah input = 10\n",
      "Ukuran Persegi =  10\n",
      "*                             \n",
      "\n",
      "   *                          \n",
      "\n",
      "      *                       \n",
      "\n",
      "         *                    \n",
      "\n",
      "            *                 \n",
      "\n",
      "               *              \n",
      "\n",
      "                  *           \n",
      "\n",
      "                     *        \n",
      "\n",
      "                        *     \n",
      "\n",
      "                           *  \n",
      "\n"
     ]
    }
   ],
   "source": [
    "ukuran = input(\"masukan jumlah input = \")\n",
    "drawLine(ukuran)"
   ]
  },
  {
   "cell_type": "code",
   "execution_count": null,
   "metadata": {},
   "outputs": [],
   "source": []
  }
 ],
 "metadata": {
  "kernelspec": {
   "display_name": "Python 3",
   "language": "python",
   "name": "python3"
  },
  "language_info": {
   "codemirror_mode": {
    "name": "ipython",
    "version": 3
   },
   "file_extension": ".py",
   "mimetype": "text/x-python",
   "name": "python",
   "nbconvert_exporter": "python",
   "pygments_lexer": "ipython3",
   "version": "3.7.3"
  }
 },
 "nbformat": 4,
 "nbformat_minor": 2
}
